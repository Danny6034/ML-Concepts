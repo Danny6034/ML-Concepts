{
 "cells": [
  {
   "cell_type": "markdown",
   "metadata": {},
   "source": [
    "# Preprocessing"
   ]
  },
  {
   "cell_type": "markdown",
   "metadata": {},
   "source": [
    "Preprocess the .csv file by taking it's transpose to reduce the number of columns and building the csr_matrix"
   ]
  },
  {
   "cell_type": "code",
   "execution_count": 1,
   "metadata": {},
   "outputs": [],
   "source": [
    "import pandas as pd\n",
    "from scipy.sparse import csr_matrix\n",
    "df = pd.read_csv('wikipedia-vectors.csv', index_col=0)\n",
    "articles = csr_matrix(df.transpose())\n",
    "titles = list(df.columns)"
   ]
  },
  {
   "cell_type": "markdown",
   "metadata": {},
   "source": [
    "# Necessary Imports"
   ]
  },
  {
   "cell_type": "code",
   "execution_count": 2,
   "metadata": {},
   "outputs": [],
   "source": [
    "from sklearn.decomposition import TruncatedSVD\n",
    "from sklearn.cluster import KMeans\n",
    "from sklearn.pipeline import make_pipeline\n"
   ]
  },
  {
   "cell_type": "code",
   "execution_count": 4,
   "metadata": {},
   "outputs": [],
   "source": [
    "#Prepare pipeline"
   ]
  },
  {
   "cell_type": "code",
   "execution_count": 5,
   "metadata": {},
   "outputs": [],
   "source": [
    "svd = TruncatedSVD(n_components=50)\n",
    "kmeans = KMeans(n_clusters=6)\n",
    "pipeline = make_pipeline(svd,kmeans)"
   ]
  },
  {
   "cell_type": "markdown",
   "metadata": {},
   "source": [
    "## Fit and Train"
   ]
  },
  {
   "cell_type": "code",
   "execution_count": 7,
   "metadata": {},
   "outputs": [
    {
     "data": {
      "text/plain": [
       "Pipeline(steps=[('truncatedsvd', TruncatedSVD(algorithm='randomized', n_components=50, n_iter=5,\n",
       "       random_state=None, tol=0.0)), ('kmeans', KMeans(copy_x=True, init='k-means++', max_iter=300, n_clusters=6, n_init=10,\n",
       "    n_jobs=1, precompute_distances='auto', random_state=None, tol=0.0001,\n",
       "    verbose=0))])"
      ]
     },
     "execution_count": 7,
     "metadata": {},
     "output_type": "execute_result"
    }
   ],
   "source": [
    "pipeline.fit(articles)"
   ]
  },
  {
   "cell_type": "code",
   "execution_count": 8,
   "metadata": {},
   "outputs": [],
   "source": [
    "labels = pipeline.predict(articles)"
   ]
  },
  {
   "cell_type": "code",
   "execution_count": 9,
   "metadata": {},
   "outputs": [],
   "source": [
    "df = pd.DataFrame({'label': labels, 'article': titles})"
   ]
  },
  {
   "cell_type": "code",
   "execution_count": 10,
   "metadata": {},
   "outputs": [],
   "source": [
    "#Displaying the df sorted by cluster label"
   ]
  },
  {
   "cell_type": "code",
   "execution_count": 11,
   "metadata": {},
   "outputs": [
    {
     "name": "stdout",
     "output_type": "stream",
     "text": [
      "                                          article  label\n",
      "47                                          Fever      0\n",
      "40                                    Tonsillitis      0\n",
      "41                                    Hepatitis B      0\n",
      "42                                    Doxycycline      0\n",
      "43                                       Leukemia      0\n",
      "44                                           Gout      0\n",
      "45                                    Hepatitis C      0\n",
      "46                                     Prednisone      0\n",
      "49                                       Lymphoma      0\n",
      "48                                     Gabapentin      0\n",
      "58                                         Sepsis      1\n",
      "59                                    Adam Levine      1\n",
      "50                                   Chad Kroeger      1\n",
      "51                                     Nate Ruess      1\n",
      "52                                     The Wanted      1\n",
      "53                                   Stevie Nicks      1\n",
      "54                                 Arctic Monkeys      1\n",
      "55                                  Black Sabbath      1\n",
      "56                                       Skrillex      1\n",
      "57                          Red Hot Chili Peppers      1\n",
      "28                                  Anne Hathaway      2\n",
      "27                                 Dakota Fanning      2\n",
      "26                                     Mila Kunis      2\n",
      "25                                  Russell Crowe      2\n",
      "29                               Jennifer Aniston      2\n",
      "23                           Catherine Zeta-Jones      2\n",
      "22                              Denzel Washington      2\n",
      "21                             Michael Fassbender      2\n",
      "20                                 Angelina Jolie      2\n",
      "24                                   Jessica Biel      2\n",
      "10                                 Global warming      3\n",
      "11       Nationally Appropriate Mitigation Action      3\n",
      "12                                   Nigel Lawson      3\n",
      "13                               Connie Hedegaard      3\n",
      "14                                 Climate change      3\n",
      "15                                 Kyoto Protocol      3\n",
      "17  Greenhouse gas emissions by the United States      3\n",
      "18  2010 United Nations Climate Change Conference      3\n",
      "16                                        350.org      3\n",
      "19  2007 United Nations Climate Change Conference      3\n",
      "39                                  Franck Ribéry      4\n",
      "37                                       Football      4\n",
      "36              2014 FIFA World Cup qualification      4\n",
      "35                Colombia national football team      4\n",
      "34                             Zlatan Ibrahimović      4\n",
      "33                                 Radamel Falcao      4\n",
      "32                                   Arsenal F.C.      4\n",
      "31                              Cristiano Ronaldo      4\n",
      "30                  France national football team      4\n",
      "38                                         Neymar      4\n",
      "1                                  Alexa Internet      5\n",
      "2                               Internet Explorer      5\n",
      "3                                     HTTP cookie      5\n",
      "4                                   Google Search      5\n",
      "9                                        LinkedIn      5\n",
      "6                     Hypertext Transfer Protocol      5\n",
      "7                                   Social search      5\n",
      "8                                         Firefox      5\n",
      "5                                          Tumblr      5\n",
      "0                                        HTTP 404      5\n"
     ]
    }
   ],
   "source": [
    "print(df.sort_values('label'))\n"
   ]
  },
  {
   "cell_type": "code",
   "execution_count": null,
   "metadata": {},
   "outputs": [],
   "source": []
  }
 ],
 "metadata": {
  "kernelspec": {
   "display_name": "Python 3",
   "language": "python",
   "name": "python3"
  },
  "language_info": {
   "codemirror_mode": {
    "name": "ipython",
    "version": 3
   },
   "file_extension": ".py",
   "mimetype": "text/x-python",
   "name": "python",
   "nbconvert_exporter": "python",
   "pygments_lexer": "ipython3",
   "version": "3.5.2"
  }
 },
 "nbformat": 4,
 "nbformat_minor": 2
}
